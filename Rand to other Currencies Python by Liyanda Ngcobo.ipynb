{
 "cells": [
  {
   "cell_type": "code",
   "execution_count": null,
   "id": "607eb0d0",
   "metadata": {},
   "outputs": [
    {
     "name": "stdout",
     "output_type": "stream",
     "text": [
      "Fetching USD/ZAR...\n",
      "Fetching EUR/ZAR...\n",
      "Fetching GBP/ZAR...\n",
      "Fetching JPY/ZAR...\n",
      "Success! Data saved to Currency_Close_Prices.xlsx\n",
      "Date range: 2024-12-13 to 2025-07-07\n"
     ]
    }
   ],
   "source": [
    "import requests #script by Liyanda Ngcobo\n",
    "import pandas as pd\n",
    "import time\n",
    "\n",
    "API_KEY = \"\"  # I used the Alpha vantage Key\n",
    "CURRENCIES = [\"USD\", \"EUR\", \"GBP\", \"JPY\"]\n",
    "BASE_CURRENCY = \"ZAR\"\n",
    "START_DATE = \"2015-01-01\"\n",
    "OUTPUT_FILE = \"Currency_Close_Prices.xlsx\"\n",
    "\n",
    "all_data = pd.DataFrame() #empty DF\n",
    "\n",
    "for currency in CURRENCIES:\n",
    "    print(f\"Fetching {currency}/{BASE_CURRENCY}...\")\n",
    "    \n",
    "    url = f\"https://www.alphavantage.co/query?function=FX_DAILY&from_symbol={currency}&to_symbol={BASE_CURRENCY}&apikey={API_KEY}&outputsize=full\"\n",
    "    response = requests.get(url)\n",
    "    data = response.json()\n",
    "    \n",
    "    try:\n",
    "        df = pd.DataFrame(data['Time Series FX (Daily)']).T[['4. close']]\n",
    "        df.columns = [f\"{currency}_Close\"]\n",
    "        df.index = pd.to_datetime(df.index)\n",
    "        df = df.sort_index()\n",
    "        \n",
    "        df = df[df.index >= START_DATE]\n",
    "        \n",
    "        all_data = pd.concat([all_data, df], axis=1)\n",
    "        \n",
    "        time.sleep(12)  # Alpha Vantage requires 12s between requests\n",
    "    \n",
    "    except KeyError:\n",
    "        print(f\"Error processing {currency} data: {data.get('Note', 'Unknown error')}\")\n",
    "\n",
    "all_data.to_excel(OUTPUT_FILE)\n",
    "print(f\"Success! Data saved to {OUTPUT_FILE}\")\n",
    "print(f\"Date range: {all_data.index[0].date()} to {all_data.index[-1].date()}\")"
   ]
  },
  {
   "cell_type": "code",
   "execution_count": null,
   "id": "54bd98a2",
   "metadata": {},
   "outputs": [],
   "source": []
  }
 ],
 "metadata": {
  "kernelspec": {
   "display_name": "Python 3",
   "language": "python",
   "name": "python3"
  },
  "language_info": {
   "codemirror_mode": {
    "name": "ipython",
    "version": 3
   },
   "file_extension": ".py",
   "mimetype": "text/x-python",
   "name": "python",
   "nbconvert_exporter": "python",
   "pygments_lexer": "ipython3",
   "version": "3.12.10"
  }
 },
 "nbformat": 4,
 "nbformat_minor": 5
}
